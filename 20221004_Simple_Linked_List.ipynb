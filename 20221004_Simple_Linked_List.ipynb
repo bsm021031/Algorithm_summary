{
 "cells": [
  {
   "cell_type": "code",
   "execution_count": 30,
   "id": "0832817b",
   "metadata": {},
   "outputs": [
    {
     "name": "stdout",
     "output_type": "stream",
     "text": [
      "지수 제니 로제 리사 "
     ]
    }
   ],
   "source": [
    "# 노드 클래스 생성\n",
    "\n",
    "class Node():\n",
    "    def __init__(self):\n",
    "        self.data = None\n",
    "        self.link = None\n",
    "\n",
    "# 노드 추가\n",
    "        \n",
    "node_1 = Node()\n",
    "node_1.data = '지수'\n",
    "\n",
    "node_2 = Node()\n",
    "node_2.data = '제니'\n",
    "node_1.link = node_2\n",
    "\n",
    "node_3 = Node()\n",
    "node_3.data = '로제'\n",
    "node_2.link = node_3\n",
    "\n",
    "node_4 = Node()\n",
    "node_4.data = '리사'\n",
    "node_3.link = node_4\n",
    "\n",
    "print(node_1.data, end = ' ')\n",
    "print(node_1.link.data, end = ' ')\n",
    "print(node_1.link.link.data , end = ' ')\n",
    "print(node_1.link.link.link.data , end = ' ')\n"
   ]
  },
  {
   "cell_type": "code",
   "execution_count": 31,
   "id": "ff4f5d60",
   "metadata": {},
   "outputs": [],
   "source": [
    "# 반복문을 이용한 노드 생성 및 추가\n",
    "\n",
    "data_arr = [\"사쿠라\", \"채원\", \"윤진\", \"카즈하\", \"은채\"]\n",
    "\n",
    "node = Node()\n",
    "node.data = data_arr[0]\n",
    "head = node\n",
    "\n",
    "for data in data_arr[1:]:\n",
    "    pre = node\n",
    "    node = Node()\n",
    "    node.data = data\n",
    "    pre.link = node\n"
   ]
  },
  {
   "cell_type": "code",
   "execution_count": 32,
   "id": "77274478",
   "metadata": {},
   "outputs": [
    {
     "name": "stdout",
     "output_type": "stream",
     "text": [
      "처음 사쿠라 채원 윤진 카즈하 은채 "
     ]
    }
   ],
   "source": [
    "# 맨 처음 위치에 노드 추가\n",
    "\n",
    "node = Node()\n",
    "node.link = head\n",
    "node.data = \"처음\"\n",
    "head = node\n",
    "\n",
    "print(head.data, end = ' ')\n",
    "print(head.link.data, end = ' ')\n",
    "print(head.link.link.data, end = ' ')\n",
    "print(head.link.link.link.data, end = ' ')\n",
    "print(head.link.link.link.link.data, end = ' ')\n",
    "print(head.link.link.link.link.link.data, end = ' ')\n"
   ]
  },
  {
   "cell_type": "markdown",
   "id": "fb37afac",
   "metadata": {},
   "source": [
    "### 중간 위치에 노드 추가하기\n",
    "\n",
    "1. pre current 지정\n",
    "2. 노드 검색\n",
    "3. 새 노드 생성\n",
    "4. 새 노드의 링크를 current로 지정\n",
    "5. pre 노드의 링크를 새 노드로 지정"
   ]
  },
  {
   "cell_type": "code",
   "execution_count": 33,
   "id": "557a8f9f",
   "metadata": {},
   "outputs": [
    {
     "name": "stdout",
     "output_type": "stream",
     "text": [
      "처음 사쿠라 채원 원영 윤진 카즈하 은채 "
     ]
    }
   ],
   "source": [
    "# 중간 위치에 노드 추가\n",
    "\n",
    "pre = head\n",
    "current = head.link\n",
    "\n",
    "while current.link != None:\n",
    "    if current.data == '윤진':\n",
    "        node = Node()\n",
    "        node.link = current\n",
    "        node.data = \"원영\"\n",
    "        pre.link = node\n",
    "        break\n",
    "\n",
    "    pre = current\n",
    "    current = current.link\n",
    "        \n",
    "print(head.data, end = ' ')\n",
    "print(head.link.data, end = ' ')\n",
    "print(head.link.link.data, end = ' ')\n",
    "print(head.link.link.link.data, end = ' ')\n",
    "print(head.link.link.link.link.data, end = ' ')\n",
    "print(head.link.link.link.link.link.data, end = ' ')\n",
    "print(head.link.link.link.link.link.link.data, end = ' ')"
   ]
  },
  {
   "cell_type": "code",
   "execution_count": 34,
   "id": "426df33d",
   "metadata": {},
   "outputs": [
    {
     "name": "stdout",
     "output_type": "stream",
     "text": [
      "사쿠라 채원 원영 윤진 카즈하 은채 "
     ]
    }
   ],
   "source": [
    "# 맨 처음 노드 삭제\n",
    "\n",
    "current = head\n",
    "head = head.link\n",
    "del(current)\n",
    "\n",
    "print(head.data, end = ' ')\n",
    "print(head.link.data, end = ' ')\n",
    "print(head.link.link.data, end = ' ')\n",
    "print(head.link.link.link.data, end = ' ')\n",
    "print(head.link.link.link.link.data, end = ' ')\n",
    "print(head.link.link.link.link.link.data, end = ' ')"
   ]
  },
  {
   "cell_type": "markdown",
   "id": "3d5a6149",
   "metadata": {},
   "source": [
    "### 중간 노드 삭제하기\n",
    "\n",
    "1. 두번째 노드(head.link)를 current로 지정하여 시작\n",
    "2. current 노드의 이전 노드를 pre 노드로 지정\n",
    "3. 삭제할 노드를 찾을 때까지 current, pre노드 이동"
   ]
  },
  {
   "cell_type": "code",
   "execution_count": 36,
   "id": "161406f4",
   "metadata": {},
   "outputs": [
    {
     "name": "stdout",
     "output_type": "stream",
     "text": [
      "사쿠라 채원 윤진 카즈하 은채 "
     ]
    }
   ],
   "source": [
    "# 중간 노드 삭제\n",
    "\n",
    "current = head\n",
    "\n",
    "while current.link != None:\n",
    "    pre = current\n",
    "    current = current.link\n",
    "    \n",
    "    if current.data == '원영':\n",
    "        pre.link = current.link\n",
    "        del(current)\n",
    "        break\n",
    "        \n",
    "print(head.data, end = ' ')\n",
    "print(head.link.data, end = ' ')\n",
    "print(head.link.link.data, end = ' ')\n",
    "print(head.link.link.link.data, end = ' ')\n",
    "print(head.link.link.link.link.data, end = ' ')"
   ]
  }
 ],
 "metadata": {
  "kernelspec": {
   "display_name": "Python 3 (ipykernel)",
   "language": "python",
   "name": "python3"
  },
  "language_info": {
   "codemirror_mode": {
    "name": "ipython",
    "version": 3
   },
   "file_extension": ".py",
   "mimetype": "text/x-python",
   "name": "python",
   "nbconvert_exporter": "python",
   "pygments_lexer": "ipython3",
   "version": "3.9.7"
  }
 },
 "nbformat": 4,
 "nbformat_minor": 5
}
