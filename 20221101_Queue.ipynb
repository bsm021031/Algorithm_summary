{
 "cells": [
  {
   "cell_type": "markdown",
   "id": "d74c876a",
   "metadata": {},
   "source": [
    "<h1>큐</h1>\n",
    "\n",
    "먼저 들어간 것이 먼저 나가는 구조<br>\n",
    "입구와 출구가 따로 있는 원형 형태로 되어 있음\n",
    "<br>\n",
    "\n",
    "<br>\n",
    "<b>Enqueue</b>: 데이터를 삽입하는 행위\n",
    "\n",
    "<b>Dequeue</b>: 데이터를 추출하는 행위\n",
    "\n",
    "<b>front</b>: 데이터의 머리\n",
    "\n",
    "<b>rear</b>: 데이터의 꼬리"
   ]
  },
  {
   "cell_type": "code",
   "execution_count": 1,
   "id": "239e2641",
   "metadata": {},
   "outputs": [
    {
     "name": "stdout",
     "output_type": "stream",
     "text": [
      "[None, None, None, None, None]\n"
     ]
    }
   ],
   "source": [
    "queue = [None for _ in range(5)]      # 크기가 5인 큐 생성\n",
    "print(queue)"
   ]
  },
  {
   "cell_type": "markdown",
   "id": "e8a71185",
   "metadata": {},
   "source": [
    "<h2>isQueueFull</h2>\n",
    "\n",
    "큐가 꽉 찼는지 여부 확인"
   ]
  },
  {
   "cell_type": "code",
   "execution_count": 2,
   "id": "a12e894c",
   "metadata": {},
   "outputs": [
    {
     "name": "stdout",
     "output_type": "stream",
     "text": [
      "큐가 꽉 찼네요\n"
     ]
    }
   ],
   "source": [
    "def isQueueFull():\n",
    "    global size, queue, front, rear\n",
    "    \n",
    "    if rear == size - 1:\n",
    "        return True\n",
    "    else:\n",
    "        return False\n",
    "    \n",
    "queue = ['민지', '하니', '다니엘', '해린', '혜인']\n",
    "size = 5\n",
    "front = -1\n",
    "rear = 4\n",
    "\n",
    "print('큐가', '꽉 찼네요' if True else '꽉 차있지 않네요')"
   ]
  },
  {
   "cell_type": "markdown",
   "id": "e0e62043",
   "metadata": {},
   "source": [
    "<h2>enQueue</h2>\n",
    "\n",
    "큐에 데이터 삽입"
   ]
  },
  {
   "cell_type": "code",
   "execution_count": 20,
   "id": "919e8cac",
   "metadata": {},
   "outputs": [
    {
     "name": "stdout",
     "output_type": "stream",
     "text": [
      "['민지', '하니', '다니엘', '해린', '혜인']\n",
      "큐가 꽉 찼네요\n",
      "['민지', '하니', '다니엘', '해린', '혜인']\n"
     ]
    }
   ],
   "source": [
    "def enQueue(data):\n",
    "    global size, queue, front, rear\n",
    "    \n",
    "    if isQueueFull():\n",
    "        print('큐가 꽉 찼네요')\n",
    "        return\n",
    "    \n",
    "    rear += 1\n",
    "    queue[rear] = data\n",
    "    \n",
    "queue = ['민지', '하니', '다니엘', '해린', None]\n",
    "\n",
    "size = len(queue)\n",
    "front = -1\n",
    "rear = 3\n",
    "\n",
    "enQueue('혜인')\n",
    "print(queue)\n",
    "enQueue('해원')\n",
    "print(queue)"
   ]
  },
  {
   "cell_type": "markdown",
   "id": "7d0b8126",
   "metadata": {},
   "source": [
    "<h2>isQueueEmpty</h2>\n",
    "\n",
    "큐가 비어있는지 여부 확인"
   ]
  },
  {
   "cell_type": "code",
   "execution_count": 22,
   "id": "d56b8473",
   "metadata": {},
   "outputs": [
    {
     "name": "stdout",
     "output_type": "stream",
     "text": [
      "큐가 비어있네요\n"
     ]
    }
   ],
   "source": [
    "def isQueueEmpty():\n",
    "    global size, queue, front, rear\n",
    "    \n",
    "    if front == rear:\n",
    "        return True\n",
    "    else:\n",
    "        return False\n",
    "    \n",
    "queue = [None for _ in range(5)]\n",
    "size = 5\n",
    "front = -1\n",
    "rear = -1\n",
    "\n",
    "print('큐가', '비어있네요' if True else '비어있지 않네요')"
   ]
  },
  {
   "cell_type": "markdown",
   "id": "aa8e04bf",
   "metadata": {},
   "source": [
    "<h2>deQueue</h2>\n",
    "\n",
    "큐에 있는 데이터 추출"
   ]
  },
  {
   "cell_type": "code",
   "execution_count": 32,
   "id": "0c2b5171",
   "metadata": {},
   "outputs": [
    {
     "name": "stdout",
     "output_type": "stream",
     "text": [
      "['민지', None, None, None, None]\n",
      "추출한 데이터: None\n",
      "['민지', None, None, None, None]\n",
      "추출한 데이터: None\n",
      "['민지', None, None, None, None]\n"
     ]
    }
   ],
   "source": [
    "def deQueue():\n",
    "    global size, queue, front, rear\n",
    "    \n",
    "    if isQueueEmpty():\n",
    "        return None\n",
    "    \n",
    "    front += 1\n",
    "    data = queue[front]\n",
    "    queue[front] = None\n",
    "    return data\n",
    "\n",
    "queue = ['민지', None, None, None, None]\n",
    "size = 5\n",
    "front = rear = -1\n",
    "\n",
    "print(queue)\n",
    "\n",
    "result = deQueue()\n",
    "print('추출한 데이터:', result)\n",
    "print(queue)\n",
    "\n",
    "result = deQueue()\n",
    "print('추출한 데이터:', result)\n",
    "print(queue)"
   ]
  },
  {
   "cell_type": "code",
   "execution_count": null,
   "id": "8a86a94d",
   "metadata": {},
   "outputs": [],
   "source": [
    "<h2>번외</h2>\n",
    "\n"
   ]
  },
  {
   "cell_type": "code",
   "execution_count": 34,
   "id": "92f82737",
   "metadata": {},
   "outputs": [
    {
     "name": "stdout",
     "output_type": "stream",
     "text": [
      "예비 합격자: ['정국', '뷔', '지민', '진', '슈가']\n",
      "\n",
      "정국 님 추가 합격\n",
      "예비 합격자: [None, '뷔', '지민', '진', '슈가']\n",
      "\n",
      "뷔 님 추가 합격\n",
      "예비 합격자: [None, None, '지민', '진', '슈가']\n",
      "\n",
      "지민 님 추가 합격\n",
      "예비 합격자: [None, None, None, '진', '슈가']\n",
      "\n",
      "진 님 추가 합격\n",
      "예비 합격자: [None, None, None, None, '슈가']\n",
      "\n",
      "슈가 님 추가 합격\n",
      "예비 합격자: [None, None, None, None, None]\n",
      "마감\n"
     ]
    }
   ],
   "source": [
    "size = 5\n",
    "queue = [None for _ in range(5)]\n",
    "front = rear = -1\n",
    "\n",
    "enQueue('정국')\n",
    "enQueue('뷔')\n",
    "enQueue('지민')\n",
    "enQueue('진')\n",
    "enQueue('슈가')\n",
    "\n",
    "print('예비 합격자:', queue)\n",
    "\n",
    "for _ in queue:\n",
    "    print()\n",
    "    result = deQueue()\n",
    "    print(result, '님 추가 합격')\n",
    "    print('예비 합격자:', queue)\n",
    "    \n",
    "    if isQueueEmpty():\n",
    "        print('마감')"
   ]
  }
 ],
 "metadata": {
  "kernelspec": {
   "display_name": "Python 3 (ipykernel)",
   "language": "python",
   "name": "python3"
  },
  "language_info": {
   "codemirror_mode": {
    "name": "ipython",
    "version": 3
   },
   "file_extension": ".py",
   "mimetype": "text/x-python",
   "name": "python",
   "nbconvert_exporter": "python",
   "pygments_lexer": "ipython3",
   "version": "3.9.7"
  }
 },
 "nbformat": 4,
 "nbformat_minor": 5
}
