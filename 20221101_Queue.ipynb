{
 "cells": [
  {
   "cell_type": "markdown",
   "id": "76763559",
   "metadata": {},
   "source": [
    "# 큐\n",
    "\n",
    "먼저 들어간 것이 먼저 나가는 구조<br>\n",
    "입구와 출구가 따로 있는 원형 형태로 되어 있음\n",
    "<br>\n",
    "\n",
    "<br>\n",
    "<b>Enqueue</b>: 데이터를 삽입하는 행위\n",
    "\n",
    "<b>Dequeue</b>: 데이터를 추출하는 행위\n",
    "\n",
    "<b>front</b>: 데이터의 머리\n",
    "\n",
    "<b>rear</b>: 데이터의 꼬리"
   ]
  },
  {
   "cell_type": "code",
   "execution_count": 1,
   "id": "3e087fe0",
   "metadata": {},
   "outputs": [
    {
     "name": "stdout",
     "output_type": "stream",
     "text": [
      "[None, None, None, None, None]\n"
     ]
    }
   ],
   "source": [
    "queue = [None for _ in range(5)]      # 크기가 5인 큐 생성\n",
    "print(queue)"
   ]
  },
  {
   "cell_type": "markdown",
   "id": "f95454e6",
   "metadata": {},
   "source": [
    "## isQueueFull\n",
    "큐가 꽉 찼는지 여부 확인"
   ]
  },
  {
   "cell_type": "code",
   "execution_count": 22,
   "id": "de0db798",
   "metadata": {},
   "outputs": [
    {
     "name": "stdout",
     "output_type": "stream",
     "text": [
      "큐가 꽉 찼네요\n"
     ]
    }
   ],
   "source": [
    "def isQueueFull():\n",
    "    global size, queue, front, rear\n",
    "    \n",
    "    if rear == size - 1:\n",
    "        return True\n",
    "    else:\n",
    "        return False\n",
    "    \n",
    "queue = ['민지', '하니', '다니엘', '해린', '혜인']\n",
    "size = 5\n",
    "front = -1\n",
    "rear = 4\n",
    "\n",
    "print('큐가', '꽉 찼네요' if True else '꽉 차있지 않네요')"
   ]
  },
  {
   "cell_type": "markdown",
   "id": "ea501503",
   "metadata": {},
   "source": [
    "## enQueue\n",
    "큐에 데이터 삽입"
   ]
  },
  {
   "cell_type": "code",
   "execution_count": 12,
   "id": "3ef00601",
   "metadata": {},
   "outputs": [
    {
     "name": "stdout",
     "output_type": "stream",
     "text": [
      "['민지', '하니', '다니엘', '해린', '혜인']\n",
      "큐가 꽉 찼네요\n",
      "['민지', '하니', '다니엘', '해린', '혜인']\n"
     ]
    }
   ],
   "source": [
    "def enQueue(data):\n",
    "    global size, queue, front, rear\n",
    "    \n",
    "    if isQueueFull():\n",
    "        print('큐가 꽉 찼네요')\n",
    "        return\n",
    "    \n",
    "    rear += 1\n",
    "    queue[rear] = data\n",
    "    \n",
    "queue = ['민지', '하니', '다니엘', '해린', None]\n",
    "\n",
    "size = len(queue)\n",
    "front = -1\n",
    "rear = 3\n",
    "\n",
    "enQueue('혜인')\n",
    "print(queue)\n",
    "enQueue('해원')\n",
    "print(queue)"
   ]
  },
  {
   "cell_type": "markdown",
   "id": "89b07fe3",
   "metadata": {},
   "source": [
    "## isQueueEmpty\n",
    "큐가 비어있는지 여부 확인"
   ]
  },
  {
   "cell_type": "code",
   "execution_count": 21,
   "id": "869f873c",
   "metadata": {},
   "outputs": [
    {
     "name": "stdout",
     "output_type": "stream",
     "text": [
      "큐가 비어있네요\n"
     ]
    }
   ],
   "source": [
    "def isQueueEmpty():\n",
    "    global size, queue, front, rear\n",
    "    \n",
    "    if front == rear:\n",
    "        return True\n",
    "    else:\n",
    "        return False\n",
    "    \n",
    "queue = [None for _ in range(5)]\n",
    "size = 5\n",
    "front = -1\n",
    "rear = -1\n",
    "\n",
    "print('큐가', '비어있네요' if True else '비어있지 않네요')"
   ]
  },
  {
   "cell_type": "markdown",
   "id": "c3f5a7bb",
   "metadata": {},
   "source": [
    "## deQueue\n",
    "큐에 있는 데이터 추출"
   ]
  },
  {
   "cell_type": "code",
   "execution_count": 31,
   "id": "b689f90a",
   "metadata": {},
   "outputs": [
    {
     "name": "stdout",
     "output_type": "stream",
     "text": [
      "['민지', None, None, None, None]\n",
      "추출한 데이터: 민지\n",
      "[None, None, None, None, None]\n",
      "추출한 데이터: 민지\n"
     ]
    }
   ],
   "source": [
    "def deQueue():\n",
    "    global size, queue, front, rear\n",
    "    \n",
    "    if isQueueEmpty():\n",
    "        return None\n",
    "    \n",
    "    front += 1\n",
    "    data = queue[front]\n",
    "    queue[front] = None\n",
    "    return data\n",
    "\n",
    "queue = ['민지', None, None, None, None]\n",
    "size = 5\n",
    "front = -1\n",
    "rear = 0\n",
    "\n",
    "print(queue)\n",
    "result = deQueue()\n",
    "print('추출한 데이터:', result)\n",
    "print(queue)"
   ]
  }
 ],
 "metadata": {
  "kernelspec": {
   "display_name": "Python 3 (ipykernel)",
   "language": "python",
   "name": "python3"
  },
  "language_info": {
   "codemirror_mode": {
    "name": "ipython",
    "version": 3
   },
   "file_extension": ".py",
   "mimetype": "text/x-python",
   "name": "python",
   "nbconvert_exporter": "python",
   "pygments_lexer": "ipython3",
   "version": "3.9.7"
  }
 },
 "nbformat": 4,
 "nbformat_minor": 5
}
