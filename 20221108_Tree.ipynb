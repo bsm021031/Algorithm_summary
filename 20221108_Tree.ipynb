{
 "cells": [
  {
   "cell_type": "markdown",
   "id": "4e0c51d3",
   "metadata": {},
   "source": [
    "# 트리\n",
    "\n",
    "컴퓨터의 상위 폴더 안에 하위 폴더들이 계속 이어져 있는 구조와 같은 구성<br>\n",
    "1:N의 구조로 되어있으며, 비선형 계층 구조임\n",
    "\n",
    "\n",
    "### 트리 용어\n",
    "\n",
    "<b>루트</b>: 최상위 노드<br>\n",
    "<b>부모 노드</b>: 해당 노드의 상위 노드<br>\n",
    "<b>자식 노드</b>: 해당 노드의 하위 노드<br>\n",
    "<b>간선 (Edge)</b>: 노드와 노드를 이어주는 선<br>\n",
    "<b>차수</b>: 해당 노드의 자식 노드의 갯수<br>\n",
    "<b>리프 노드</b>: 자식 노드가 없는 노드 (최하위)\n",
    "\n",
    "\n",
    "\n",
    "# 이진 트리\n",
    "\n",
    "모든 노드의 자식이 최대 2개인 트리 (자식이 2개 이하로 구성)\n",
    "\n",
    "\n",
    "### 이진 트리 종류\n",
    "\n",
    "<b>포화 이진 트리</b>: 모든 노드가 공백이 없어야 함<br>\n",
    "<b>완전 이진 트리</b>: 중간 노드의 공백이 없어야 함<br>\n",
    "<b>편향 이진 트리</b>: 한 쪽으로 치우쳐져 있는 노드<br>\n",
    "\n",
    "\n",
    "### 예제\n",
    "\n",
    "1. 노드 갯수가 n일 때, 간선의 갯수는?:  n - 1개<br>\n",
    "2. 높이가 h인 이진 트리의 최소 노드 수는?:  h + 1개 (이진 트리의 높이는 0부터 시작함)<br>\n",
    "3. 높이가 h인 이진 트리의 최대 노드 수는?:  2^(h + 1) - 1개"
   ]
  },
  {
   "cell_type": "code",
   "execution_count": 1,
   "id": "c3dd9d86",
   "metadata": {},
   "outputs": [],
   "source": [
    "class TreeNode():              # 이진 트리 클래스\n",
    "    def __init__(self):\n",
    "        self.left = None\n",
    "        self.data = None\n",
    "        self.right = None\n",
    "        \n",
    "node1 = TreeNode()             # 이진 트리 생성\n",
    "node1.data = '화사'\n",
    "\n",
    "node2 = TreeNode()\n",
    "node2.data = '솔라'\n",
    "node1.left = node2\n",
    "\n",
    "node3 = TreeNode()\n",
    "node3.data = '문별'\n",
    "node1.right = node3\n",
    "\n",
    "node4 = TreeNode()\n",
    "node4.data = '휘인'\n",
    "node2.left = node4\n",
    "\n",
    "node5 = TreeNode()\n",
    "node5.data = '쯔위'\n",
    "node2.right = node5\n",
    "\n",
    "node6 = TreeNode()\n",
    "node6.data = '선미'\n",
    "node3.left = node6\n",
    "\n",
    "node7 = TreeNode()\n",
    "node7.data = '다현'\n",
    "node4.right = node7\n",
    "\n",
    "node8 = TreeNode()\n",
    "node8.data = '사나'\n",
    "node6.right = node8"
   ]
  },
  {
   "cell_type": "code",
   "execution_count": 2,
   "id": "0bfb9b57",
   "metadata": {},
   "outputs": [],
   "source": [
    "def preorder(node):       # 전위 순회\n",
    "    if node == None:\n",
    "        return\n",
    "    \n",
    "    print(node.data, end = ' -> ')\n",
    "    preorder(node.left)\n",
    "    preorder(node.right)\n",
    "    \n",
    "def inorder(node):        # 중위 순회\n",
    "    if node == None:\n",
    "        return\n",
    "    \n",
    "    inorder(node.left)\n",
    "    print(node.data, end = ' -> ')\n",
    "    inorder(node.right)\n",
    "    \n",
    "def postorder(node):      # 후위 순회\n",
    "    if node == None:\n",
    "        return\n",
    "    \n",
    "    postorder(node.left)\n",
    "    postorder(node.right)\n",
    "    print(node.data, end = ' -> ')"
   ]
  },
  {
   "cell_type": "code",
   "execution_count": 3,
   "id": "292f4cf7",
   "metadata": {},
   "outputs": [
    {
     "name": "stdout",
     "output_type": "stream",
     "text": [
      "전위 순회: 화사 -> 솔라 -> 휘인 -> 다현 -> 쯔위 -> 문별 -> 선미 -> 사나 -> 끝\n",
      "중위 순회: 휘인 -> 다현 -> 솔라 -> 쯔위 -> 화사 -> 선미 -> 사나 -> 문별 -> 끝\n",
      "후위 순회: 다현 -> 휘인 -> 쯔위 -> 솔라 -> 사나 -> 선미 -> 문별 -> 화사 -> 끝\n"
     ]
    }
   ],
   "source": [
    "print('전위 순회:', end = ' ')\n",
    "preorder(node1)\n",
    "print('끝')\n",
    "\n",
    "print('중위 순회:', end = ' ')\n",
    "inorder(node1)\n",
    "print('끝')\n",
    "\n",
    "print('후위 순회:', end = ' ')\n",
    "postorder(node1)\n",
    "print('끝')"
   ]
  },
  {
   "cell_type": "code",
   "execution_count": 15,
   "id": "9875cfcb",
   "metadata": {},
   "outputs": [
    {
     "name": "stdout",
     "output_type": "stream",
     "text": [
      "John\n"
     ]
    }
   ],
   "source": [
    "# for문을 이용한 이진 트리 생성\n",
    "\n",
    "name = ['John', 'Paul', 'Ringo', 'George', 'Jimmy', 'Robert']\n",
    "\n",
    "node = TreeNode()\n",
    "node.data = name[0]\n",
    "\n",
    "root = node\n",
    "\n",
    "for i in name[1:]:\n",
    "    node = TreeNode()\n",
    "    node.data = i\n",
    "    current = root\n",
    "    \n",
    "    while True:\n",
    "        if i < current.data:              # 데이터가 current.data보다 작으면 왼쪽으로\n",
    "            if current.left == None:      # 왼쪽에 노드가 없으면 채우기\n",
    "                current.left = node\n",
    "                break\n",
    "            current = current.left\n",
    "        else:\n",
    "            if current.right == None:     # 오른쪽에 노드가 없으면 채우기\n",
    "                current.right = node\n",
    "                break\n",
    "            current = current.right\n",
    "            \n",
    "print(root.data)"
   ]
  },
  {
   "cell_type": "code",
   "execution_count": 16,
   "id": "73ee2a80",
   "metadata": {},
   "outputs": [
    {
     "name": "stdout",
     "output_type": "stream",
     "text": [
      "Robert 찾음\n"
     ]
    }
   ],
   "source": [
    "# 이진 트리 내 데이터 찾기\n",
    "\n",
    "find_name = 'Robert'\n",
    "current = root\n",
    "\n",
    "while True:\n",
    "    if current.data == find_name:\n",
    "        print(find_name, '찾음')\n",
    "        break\n",
    "    elif find_name < current.data:\n",
    "        if current.left == None:\n",
    "            print('실패')\n",
    "            break\n",
    "        current = current.left\n",
    "    else:\n",
    "        if current.right == None:\n",
    "            print('실패')\n",
    "            break\n",
    "        current = current.right"
   ]
  },
  {
   "cell_type": "code",
   "execution_count": 13,
   "id": "3c3f0108",
   "metadata": {},
   "outputs": [
    {
     "name": "stdout",
     "output_type": "stream",
     "text": [
      "Min: 3\n"
     ]
    }
   ],
   "source": [
    "# 리스트 내 최소값 찾기\n",
    "\n",
    "def find_min(arr):\n",
    "    min_index = 0\n",
    "    \n",
    "    for i in range(1, len(arr)):\n",
    "        if arr[min_index] > arr[i]:\n",
    "            min_index = i\n",
    "            \n",
    "    return min_index\n",
    "\n",
    "arr = [188, 168, 160, 50, 3]\n",
    "index = find_min(arr)\n",
    "\n",
    "print('Min:', arr[index])"
   ]
  },
  {
   "cell_type": "code",
   "execution_count": 21,
   "id": "ab8ae388",
   "metadata": {},
   "outputs": [
    {
     "name": "stdout",
     "output_type": "stream",
     "text": [
      "Before: [8, 5, 7, 1, 9, 3]\n",
      "After: [1, 3, 5, 7, 8, 9]\n"
     ]
    }
   ],
   "source": [
    "before_sort = [8, 5, 7, 1, 9, 3]\n",
    "after_sort = []\n",
    "\n",
    "print('Before:', before_sort)\n",
    "\n",
    "for _ in range(len(before_sort)):\n",
    "    min_index = find_min(before_sort)\n",
    "    after_sort.append(before_sort[min_index])\n",
    "    \n",
    "    del(before_sort[min_index])\n",
    "\n",
    "print('After:', after_sort)"
   ]
  }
 ],
 "metadata": {
  "kernelspec": {
   "display_name": "Python 3 (ipykernel)",
   "language": "python",
   "name": "python3"
  },
  "language_info": {
   "codemirror_mode": {
    "name": "ipython",
    "version": 3
   },
   "file_extension": ".py",
   "mimetype": "text/x-python",
   "name": "python",
   "nbconvert_exporter": "python",
   "pygments_lexer": "ipython3",
   "version": "3.9.7"
  }
 },
 "nbformat": 4,
 "nbformat_minor": 5
}
