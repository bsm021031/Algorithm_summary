{
 "cells": [
  {
   "cell_type": "code",
   "execution_count": 1,
   "id": "3b46fdf1",
   "metadata": {},
   "outputs": [
    {
     "name": "stdout",
     "output_type": "stream",
     "text": [
      "[None, None, None, None, None]\n"
     ]
    }
   ],
   "source": [
    "size = 5\n",
    "stack = [None for _ in range(size)]\n",
    "print(stack)"
   ]
  },
  {
   "cell_type": "code",
   "execution_count": 6,
   "id": "8abf9b38",
   "metadata": {},
   "outputs": [
    {
     "name": "stdout",
     "output_type": "stream",
     "text": [
      "스택이 full인가?: True\n",
      "['채원', '사쿠라', '윤진', None, None]\n",
      "['채원', '사쿠라', '윤진', '카즈하', None]\n",
      "['채원', '사쿠라', '윤진', '카즈하', '은채']\n",
      "스택이 꽉 찼네용\n"
     ]
    }
   ],
   "source": [
    "# 스택이 데이터를 push함\n",
    "# push 할 때마다 스택에 full 상태인지 여부를 확인해야 함\n",
    "# 1. 스택이 full 상태인지 여부를 체크하는 함수부터 생성하고 데이터 push 함수 생성\n",
    "# 2. 스택이 full 상태인지 여부 확인 함수에서 full이면 True를 반환하는 알고리즘으로 생성\n",
    "\n",
    "# 스택 full 상태 여부 확인\n",
    "\n",
    "def isStackFull():\n",
    "    global top, stack, size\n",
    "    \n",
    "    if top == size - 1:\n",
    "        return True\n",
    "    else:\n",
    "        return False\n",
    "    \n",
    "stack = ['채원', '사쿠라', '윤진', '카즈하', '은채']\n",
    "size = len(stack)\n",
    "top = size - 1\n",
    "\n",
    "print('스택이 full인가?:', isStackFull())\n",
    "\n",
    "# 스택 push\n",
    "\n",
    "def push(data):\n",
    "    global top, stack, size\n",
    "    \n",
    "    if isStackFull():\n",
    "        print('스택이 꽉 찼네용')\n",
    "        \n",
    "        return\n",
    "    else:\n",
    "        top += 1\n",
    "        stack[top] = data\n",
    "        \n",
    "stack = ['채원', '사쿠라', '윤진', None, None]\n",
    "size = 5\n",
    "top = 2\n",
    "\n",
    "print(stack)\n",
    "\n",
    "push('카즈하')\n",
    "print(stack)\n",
    "\n",
    "push('은채')\n",
    "print(stack)\n",
    "\n",
    "push('예나')\n"
   ]
  },
  {
   "cell_type": "code",
   "execution_count": 19,
   "id": "50315075",
   "metadata": {},
   "outputs": [
    {
     "name": "stdout",
     "output_type": "stream",
     "text": [
      "스택이 비어있는가?: True\n",
      "[None, None, None, None, None]\n",
      "추출값: 유진\n",
      "['가을', None, None, None, None]\n"
     ]
    }
   ],
   "source": [
    "# 스택에서 데이터 추출\n",
    "# 추출할 때마다 스택이 empty인지를 확인해야 함\n",
    "# 1. 스택의 empty 여부 확인 함수 생성 후, 스택에서 데이터를 추출하는 함수 생성\n",
    "# 2. 스택의 empty 여부 확인 함수에서 empty일 시 True 반환\n",
    "\n",
    "def isStackEmpty():\n",
    "    global top, stack, size\n",
    "    \n",
    "    if top == -1:\n",
    "        return True\n",
    "    else:\n",
    "        return False\n",
    "\n",
    "size = 5\n",
    "stack = [None for _ in range(size)]\n",
    "top = -1\n",
    "\n",
    "print('스택이 비어있는가?:', isStackEmpty())\n",
    "print(stack)\n",
    "\n",
    "def pop():\n",
    "    global top, stack, size\n",
    "    \n",
    "    if isStackEmpty():\n",
    "        print('스택이 비어있네용')\n",
    "        \n",
    "        return\n",
    "    else:\n",
    "        data = stack[top]\n",
    "        stack[top] = None\n",
    "        top = -1\n",
    "        \n",
    "        return data\n",
    "\n",
    "stack = ['가을', '유진', None, None, None]\n",
    "size = 5\n",
    "top = 1\n",
    "\n",
    "result = pop()\n",
    "print('추출값:', result)\n",
    "print(stack)"
   ]
  },
  {
   "cell_type": "code",
   "execution_count": null,
   "id": "68ce0676",
   "metadata": {},
   "outputs": [],
   "source": []
  }
 ],
 "metadata": {
  "kernelspec": {
   "display_name": "Python 3 (ipykernel)",
   "language": "python",
   "name": "python3"
  },
  "language_info": {
   "codemirror_mode": {
    "name": "ipython",
    "version": 3
   },
   "file_extension": ".py",
   "mimetype": "text/x-python",
   "name": "python",
   "nbconvert_exporter": "python",
   "pygments_lexer": "ipython3",
   "version": "3.9.7"
  }
 },
 "nbformat": 4,
 "nbformat_minor": 5
}
