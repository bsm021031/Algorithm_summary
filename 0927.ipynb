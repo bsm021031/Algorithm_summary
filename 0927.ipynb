{
 "cells": [
  {
   "cell_type": "code",
   "execution_count": 9,
   "id": "28c8271c",
   "metadata": {},
   "outputs": [
    {
     "name": "stdout",
     "output_type": "stream",
     "text": [
      "14\n",
      "4\n",
      "45\n",
      "1\n"
     ]
    }
   ],
   "source": [
    "class Calculator:\n",
    "    def __init__(self, a, b):\n",
    "        self.a = a\n",
    "        self.b = b\n",
    "\n",
    "    def add(self):\n",
    "        result = self.a + self.b\n",
    "        return result\n",
    "    \n",
    "    def subtract(self):\n",
    "        result = self.a - self.b\n",
    "        return result\n",
    "    \n",
    "    def multiple(self):\n",
    "        result = self.a * self.b\n",
    "        return result\n",
    "    \n",
    "    def divide(self):\n",
    "        result = self.a // self.b\n",
    "        return result\n",
    "    \n",
    "peace = Calculator(9, 5)\n",
    "print(peace.add())\n",
    "print(peace.subtract())\n",
    "print(peace.multiple())\n",
    "print(peace.divide())"
   ]
  },
  {
   "cell_type": "code",
   "execution_count": 151,
   "id": "a2f3726a",
   "metadata": {},
   "outputs": [],
   "source": [
    "ive = []\n",
    "\n",
    "def add_data(name):\n",
    "    ive.append(name)\n"
   ]
  },
  {
   "cell_type": "code",
   "execution_count": 152,
   "id": "38ec6302",
   "metadata": {},
   "outputs": [
    {
     "name": "stdout",
     "output_type": "stream",
     "text": [
      "['유진', '가을', '원영', '리즈', '레이', '이서']\n"
     ]
    }
   ],
   "source": [
    "add_data(\"유진\")\n",
    "add_data(\"가을\")\n",
    "add_data(\"원영\")\n",
    "add_data(\"리즈\")\n",
    "add_data(\"레이\")\n",
    "add_data(\"이서\")\n",
    "\n",
    "print(ive)"
   ]
  },
  {
   "cell_type": "code",
   "execution_count": 154,
   "id": "ed58d29a",
   "metadata": {},
   "outputs": [],
   "source": [
    "def insert_data(pos, name):\n",
    "    ive.append(None)\n",
    "    \n",
    "    for i in range(len(ive) - 1, pos, -1):\n",
    "        ive[i] = ive[i - 1]\n",
    "        ive[i - 1] = None\n",
    "        \n",
    "    ive[pos] = name"
   ]
  },
  {
   "cell_type": "code",
   "execution_count": 155,
   "id": "c6a1d96a",
   "metadata": {},
   "outputs": [
    {
     "name": "stdout",
     "output_type": "stream",
     "text": [
      "['유진', '가을', '선모', '원영', '리즈', '레이']\n"
     ]
    }
   ],
   "source": [
    "insert_data(2, \"선모\")\n",
    "print(ive)"
   ]
  },
  {
   "cell_type": "code",
   "execution_count": 165,
   "id": "cd0ad752",
   "metadata": {},
   "outputs": [],
   "source": [
    "def delete_data(pos):\n",
    "    if pos > len(ive) - 1 or pos < 0:\n",
    "        print(\"Error\")\n",
    "        return\n",
    "    \n",
    "    ive[pos] = None\n",
    "    \n",
    "    for i in range(pos, len(ive) - 1, 1):\n",
    "        ive[i] = ive[i + 1]\n",
    "        ive[i + 1] = None\n",
    "        \n",
    "    ive.pop()\n"
   ]
  },
  {
   "cell_type": "code",
   "execution_count": 166,
   "id": "4624b569",
   "metadata": {},
   "outputs": [
    {
     "name": "stdout",
     "output_type": "stream",
     "text": [
      "['유진', '가을', '레이']\n"
     ]
    }
   ],
   "source": [
    "delete_data(2)\n",
    "print(ive)"
   ]
  },
  {
   "cell_type": "code",
   "execution_count": null,
   "id": "b020e6de",
   "metadata": {},
   "outputs": [],
   "source": []
  }
 ],
 "metadata": {
  "kernelspec": {
   "display_name": "Python 3 (ipykernel)",
   "language": "python",
   "name": "python3"
  },
  "language_info": {
   "codemirror_mode": {
    "name": "ipython",
    "version": 3
   },
   "file_extension": ".py",
   "mimetype": "text/x-python",
   "name": "python",
   "nbconvert_exporter": "python",
   "pygments_lexer": "ipython3",
   "version": "3.9.7"
  }
 },
 "nbformat": 4,
 "nbformat_minor": 5
}
