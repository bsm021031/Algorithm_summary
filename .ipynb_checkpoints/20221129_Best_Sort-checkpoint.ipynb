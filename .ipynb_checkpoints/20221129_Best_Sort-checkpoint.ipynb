{
 "cells": [
  {
   "cell_type": "code",
   "execution_count": 1,
   "id": "3b48097a",
   "metadata": {},
   "outputs": [
    {
     "name": "stdout",
     "output_type": "stream",
     "text": [
      "Before: [188, 1612, 168, 120, 50, 150, 177, 105]\n",
      "\n",
      "1회전 결과: [50, 1612, 168, 120, 188, 150, 177, 105]\n",
      "2회전 결과: [50, 105, 168, 120, 188, 150, 177, 1612]\n",
      "3회전 결과: [50, 105, 120, 168, 188, 150, 177, 1612]\n",
      "4회전 결과: [50, 105, 120, 150, 188, 168, 177, 1612]\n",
      "5회전 결과: [50, 105, 120, 150, 168, 188, 177, 1612]\n",
      "6회전 결과: [50, 105, 120, 150, 168, 177, 188, 1612]\n",
      "7회전 결과: [50, 105, 120, 150, 168, 177, 188, 1612]\n",
      "8회전 결과: [50, 105, 120, 150, 168, 177, 188, 1612]\n",
      "\n",
      "After: [50, 105, 120, 150, 168, 177, 188, 1612]\n"
     ]
    }
   ],
   "source": [
    "# 선택 정렬 (오름차순)\n",
    "\n",
    "def SelectionSort(arr):\n",
    "    n = len(arr)\n",
    "    \n",
    "    for i in range(n):\n",
    "        minIndex = i\n",
    "        for j in range(i + 1, n):\n",
    "            if arr[minIndex] > arr[j]: minIndex = j\n",
    "                \n",
    "        arr[minIndex], arr[i] = arr[i], arr[minIndex]\n",
    "        print(f'{i + 1}회전 결과: {arr}')\n",
    "        \n",
    "    return arr\n",
    "        \n",
    "dataArr = [188, 1612, 168, 120, 50, 150, 177, 105]\n",
    "\n",
    "print('Before:', dataArr)\n",
    "print()\n",
    "dataArr = SelectionSort(dataArr)\n",
    "print()\n",
    "print('After:', dataArr)       "
   ]
  },
  {
   "cell_type": "code",
   "execution_count": 2,
   "id": "272fa6a9",
   "metadata": {},
   "outputs": [
    {
     "name": "stdout",
     "output_type": "stream",
     "text": [
      "Before: [188, 1612, 168, 120, 50, 150, 177, 105]\n",
      "After: [1612, 188, 177, 168, 150, 120, 105, 50]\n"
     ]
    }
   ],
   "source": [
    "# 선택 정렬 (내림차순)\n",
    "\n",
    "def SelectionSort(arr):\n",
    "    n = len(arr)\n",
    "    \n",
    "    for i in range(n):\n",
    "        minIndex = i\n",
    "        for j in range(i + 1, n):\n",
    "            if arr[minIndex] < arr[j]: minIndex = j\n",
    "                \n",
    "        arr[minIndex], arr[i] = arr[i], arr[minIndex]\n",
    "        \n",
    "    return arr\n",
    "        \n",
    "dataArr = [188, 1612, 168, 120, 50, 150, 177, 105]\n",
    "\n",
    "print('Before:', dataArr)\n",
    "dataArr = SelectionSort(dataArr)\n",
    "print('After:', dataArr)"
   ]
  },
  {
   "cell_type": "code",
   "execution_count": 3,
   "id": "93f579bf",
   "metadata": {},
   "outputs": [
    {
     "name": "stdout",
     "output_type": "stream",
     "text": [
      "Before: [188, 1612, 168, 120, 50, 150, 177, 105]\n",
      "After: [50, 105, 120, 150, 168, 177, 188, 1612]\n"
     ]
    }
   ],
   "source": [
    "# 삽입 정렬\n",
    "\n",
    "def InsertionSort(arr):\n",
    "    n = len(arr)\n",
    "    \n",
    "    for i in range(n):\n",
    "        for j in range(i, 0, -1):\n",
    "            if arr[j - 1] > arr[j]:\n",
    "                arr[j - 1], arr[j] = arr[j], arr[j - 1]\n",
    "                \n",
    "    return arr\n",
    "\n",
    "dataArr = [188, 1612, 168, 120, 50, 150, 177, 105]\n",
    "\n",
    "print('Before:', dataArr)\n",
    "result = InsertionSort(dataArr)\n",
    "print('After:', dataArr)"
   ]
  },
  {
   "cell_type": "code",
   "execution_count": 4,
   "id": "caa8a000",
   "metadata": {},
   "outputs": [
    {
     "name": "stdout",
     "output_type": "stream",
     "text": [
      "Before: [188, 1612, 168, 120, 50, 150, 177, 105]\n",
      "After: [50, 105, 120, 150, 168, 177, 188, 1612]\n"
     ]
    }
   ],
   "source": [
    "# 버블 정렬\n",
    "\n",
    "def BubbleSort(arr):\n",
    "    n = len(arr)\n",
    "    \n",
    "    for end in range(n - 1, 0, -1):\n",
    "        for cur in range(0, end):\n",
    "            if arr[cur] > arr[cur + 1]: \n",
    "                arr[cur], arr[cur + 1] = arr[cur + 1] , arr[cur]\n",
    "                \n",
    "    return arr\n",
    "\n",
    "dataArr = [188, 1612, 168, 120, 50, 150, 177, 105]\n",
    "\n",
    "print('Before:', dataArr)\n",
    "dataArr = BubbleSort(dataArr)\n",
    "print('After:', dataArr)"
   ]
  },
  {
   "cell_type": "code",
   "execution_count": 5,
   "id": "aaf8f5ea",
   "metadata": {},
   "outputs": [
    {
     "name": "stdout",
     "output_type": "stream",
     "text": [
      "Before: [188, 1612, 168, 120, 50, 150, 177, 105]\n",
      "Cycle: [188, 1612, 168, 120, 50, 150, 177, 105]\n",
      "Cycle: [188, 168, 120, 50, 150, 177, 105, 1612]\n",
      "Cycle: [168, 120, 50, 150, 177, 105, 188, 1612]\n",
      "Cycle: [120, 50, 150, 168, 105, 177, 188, 1612]\n",
      "Cycle: [50, 120, 150, 105, 168, 177, 188, 1612]\n",
      "Cycle: [50, 120, 105, 150, 168, 177, 188, 1612]\n",
      "Cycle: [50, 105, 120, 150, 168, 177, 188, 1612]\n",
      "After: [50, 105, 120, 150, 168, 177, 188, 1612]\n"
     ]
    }
   ],
   "source": [
    "# 개선된 버블 정렬\n",
    "\n",
    "def BubbleSort(arr):\n",
    "    n = len(arr)\n",
    "    \n",
    "    for end in range(n - 1, 0, -1):\n",
    "        stop = False\n",
    "        print('Cycle:', arr)\n",
    "        for cur in range(0, end):\n",
    "            if arr[cur] > arr[cur + 1]: \n",
    "                arr[cur], arr[cur + 1] = arr[cur + 1] , arr[cur]\n",
    "                stop = True\n",
    "        if not stop:\n",
    "            break\n",
    "                \n",
    "    return arr\n",
    "\n",
    "dataArr = [188, 1612, 168, 120, 50, 150, 177, 105]\n",
    "\n",
    "print('Before:', dataArr)\n",
    "dataArr = BubbleSort(dataArr)\n",
    "print('After:', dataArr)"
   ]
  },
  {
   "cell_type": "code",
   "execution_count": 6,
   "id": "8e7881d4",
   "metadata": {},
   "outputs": [
    {
     "name": "stdout",
     "output_type": "stream",
     "text": [
      "Before: [188, 1612, 168, 120, 50, 150, 177, 105]\n",
      "After: [50, 105, 120, 150, 168, 177, 188, 1612]\n"
     ]
    }
   ],
   "source": [
    "# 퀵 정렬\n",
    "\n",
    "def QuickSort(arr):\n",
    "    n = len(arr)\n",
    "    \n",
    "    if n <= 1: return arr\n",
    "    \n",
    "    pivot = arr[n // 2]\n",
    "    leftArr, rightArr = [], []\n",
    "    \n",
    "    for num in arr:\n",
    "        if num < pivot: leftArr.append(num)\n",
    "        elif num > pivot: rightArr.append(num)\n",
    "            \n",
    "    return QuickSort(leftArr) + [pivot] + QuickSort(rightArr)\n",
    "\n",
    "dataArr = [188, 1612, 168, 120, 50, 150, 177, 105]\n",
    "\n",
    "print('Before:', dataArr)\n",
    "dataArr = QuickSort(dataArr)\n",
    "print('After:', dataArr)"
   ]
  },
  {
   "cell_type": "code",
   "execution_count": 7,
   "id": "558a1bd0",
   "metadata": {},
   "outputs": [
    {
     "name": "stdout",
     "output_type": "stream",
     "text": [
      "Before: [188, 1612, 168, 120, 50, 150, 177, 105]\n",
      "After: [50, 105, 120, 150, 168, 177, 188, 1612]\n"
     ]
    }
   ],
   "source": [
    "# 중복 값을 고려한 퀵 정렬\n",
    "\n",
    "def QuickSort(arr):\n",
    "    n = len(arr)\n",
    "    \n",
    "    if n <= 1: return arr\n",
    "    \n",
    "    pivot = arr[n // 2]\n",
    "    leftArr, midArr, rightArr = [], [], []\n",
    "    \n",
    "    for num in arr:\n",
    "        if num < pivot: leftArr.append(num)\n",
    "        elif num > pivot: rightArr.append(num)\n",
    "        else: midArr.append(num)\n",
    "            \n",
    "    return QuickSort(leftArr) + midArr + QuickSort(rightArr)\n",
    "\n",
    "dataArr = [188, 1612, 168, 120, 50, 150, 177, 105]\n",
    "\n",
    "print('Before:', dataArr)\n",
    "dataArr = QuickSort(dataArr)\n",
    "print('After:', dataArr)"
   ]
  },
  {
   "cell_type": "code",
   "execution_count": 14,
   "id": "3ede4648",
   "metadata": {},
   "outputs": [],
   "source": [
    "# 퀵 정렬의 일반적인 구현\n",
    "\n",
    "def qSort(arr, start, end):\n",
    "    if end <= start: return\n",
    "    \n",
    "    low = start\n",
    "    high = end\n",
    "    \n",
    "    pivot = arr[(low + high) // 2]\n",
    "    \n",
    "    while low <= high:\n",
    "        while arr[low] < pivot:\n",
    "            low += 1\n",
    "        while arr[high] > pivot:\n",
    "            high -= 1\n",
    "        if low <= high:\n",
    "            arr[low], arr[high] = arr[high], arr[low]\n",
    "            low += 1\n",
    "            high -= 1\n",
    "            \n",
    "    mid = low\n",
    "    \n",
    "    qSort(arr, start, mid - 1)\n",
    "    qSort(arr, mid, end)\n",
    "    \n",
    "def quick(arr):\n",
    "    qSort(arr, 0, len(arr) - 1)"
   ]
  },
  {
   "cell_type": "code",
   "execution_count": 18,
   "id": "d08ccaeb",
   "metadata": {},
   "outputs": [
    {
     "name": "stdout",
     "output_type": "stream",
     "text": [
      "Before: [188, 1612, 168, 120, 50, 150, 177, 105]\n",
      "After: [50, 105, 120, 150, 168, 177, 188, 1612]\n"
     ]
    }
   ],
   "source": [
    "dataArr = [188, 1612, 168, 120, 50, 150, 177, 105]\n",
    "\n",
    "print('Before:', dataArr)\n",
    "quick(dataArr)\n",
    "print('After:', dataArr)"
   ]
  }
 ],
 "metadata": {
  "kernelspec": {
   "display_name": "Python 3 (ipykernel)",
   "language": "python",
   "name": "python3"
  },
  "language_info": {
   "codemirror_mode": {
    "name": "ipython",
    "version": 3
   },
   "file_extension": ".py",
   "mimetype": "text/x-python",
   "name": "python",
   "nbconvert_exporter": "python",
   "pygments_lexer": "ipython3",
   "version": "3.9.7"
  }
 },
 "nbformat": 4,
 "nbformat_minor": 5
}
