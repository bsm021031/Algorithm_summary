{
 "cells": [
  {
   "cell_type": "code",
   "execution_count": 3,
   "id": "ef17a410",
   "metadata": {},
   "outputs": [],
   "source": [
    "class Node():                  # Node 클래스 생성\n",
    "    def __init__(self):        # 클래스 생성 시 자동으로 실행\n",
    "        self.data = None       # 데이터, 링크가 저장되는 부분\n",
    "        self.link = None"
   ]
  },
  {
   "cell_type": "code",
   "execution_count": 9,
   "id": "42d8bc23",
   "metadata": {},
   "outputs": [
    {
     "name": "stdout",
     "output_type": "stream",
     "text": [
      "가을 유진 원영 리즈 레이 이서 "
     ]
    }
   ],
   "source": [
    "# 원형 리스트 구현\n",
    "\n",
    "node_1 = Node()\n",
    "node_1.data = \"가을\"\n",
    "node_1.link = node_1\n",
    "\n",
    "node_2 = Node()\n",
    "node_2.data = \"유진\"\n",
    "node_1.link = node_2\n",
    "node_2.link = node_1\n",
    "\n",
    "node_3 = Node()\n",
    "node_3.data = \"원영\"\n",
    "node_2.link = node_3\n",
    "node_3.link = node_1\n",
    "\n",
    "node_4 = Node()\n",
    "node_4.data = \"리즈\"\n",
    "node_3.link = node_4\n",
    "node_4.link = node_1\n",
    "\n",
    "node_5 = Node()\n",
    "node_5.data = \"레이\"\n",
    "node_4.link = node_5\n",
    "node_5.link = node_1\n",
    "\n",
    "node_6 = Node()\n",
    "node_6.data = \"이서\"\n",
    "node_5.link = node_6\n",
    "node_6.link = node_1\n",
    "\n",
    "current = node_1\n",
    "\n",
    "print(current.data, end = ' ')\n",
    "\n",
    "while current.link != node_1:\n",
    "    current = current.link\n",
    "    print(current.data, end = ' ')"
   ]
  },
  {
   "cell_type": "code",
   "execution_count": 21,
   "id": "adf0540d",
   "metadata": {},
   "outputs": [
    {
     "name": "stdout",
     "output_type": "stream",
     "text": [
      "사쿠라 채원 윤진 카즈하 은채 "
     ]
    }
   ],
   "source": [
    "# 반복문을 이용한 원형 리스트 구현\n",
    "\n",
    "dataArray = [\"사쿠라\", \"채원\", \"윤진\", \"카즈하\", \"은채\"]\n",
    "\n",
    "node = Node()\n",
    "node.data = dataArray[0]\n",
    "head = node\n",
    "node.link = head\n",
    "\n",
    "current = node\n",
    "\n",
    "for data in dataArray[1:]:\n",
    "    node = Node()\n",
    "    node.data = data\n",
    "    current.link = node\n",
    "    node.link = head\n",
    "    current = node\n",
    "    \n",
    "print(head.data, end = ' ')\n",
    "print(head.link.data, end = ' ')\n",
    "print(head.link.link.data, end = ' ')\n",
    "print(head.link.link.link.data, end = ' ')\n",
    "print(head.link.link.link.link.data, end = ' ')"
   ]
  },
  {
   "cell_type": "code",
   "execution_count": 22,
   "id": "f879df86",
   "metadata": {},
   "outputs": [
    {
     "name": "stdout",
     "output_type": "stream",
     "text": [
      "민주 사쿠라 채원 윤진 카즈하 은채 "
     ]
    }
   ],
   "source": [
    "# 원형 리스트 맨 앞에 노드 삽입\n",
    "\n",
    "node = Node()                 # 새 노드 생성\n",
    "node.data = \"민주\"             # 데이터 삽입\n",
    "node.link = head              # 링크를 헤드에 연결\n",
    "last = head\n",
    "\n",
    "while last.link != head:      # 마지막 노드 찾기\n",
    "    last = last.link\n",
    "    \n",
    "last.link = node              # 맨 앞에 노드 삽입\n",
    "head = node\n",
    "\n",
    "print(head.data, end = ' ')\n",
    "print(head.link.data, end = ' ')\n",
    "print(head.link.link.data, end = ' ')\n",
    "print(head.link.link.link.data, end = ' ')\n",
    "print(head.link.link.link.link.data, end = ' ')\n",
    "print(head.link.link.link.link.link.data, end = ' ')"
   ]
  },
  {
   "cell_type": "code",
   "execution_count": 23,
   "id": "d494dbd1",
   "metadata": {},
   "outputs": [
    {
     "name": "stdout",
     "output_type": "stream",
     "text": [
      "민주 사쿠라 채원 유리 윤진 카즈하 은채 "
     ]
    }
   ],
   "source": [
    "# 원형 리스트 중간에 노드 삽입 \n",
    "\n",
    "pre = head                      # pre, current 지정\n",
    "current = head\n",
    "\n",
    "while current.link != head:     # pre, current에 저장하면서 이동\n",
    "    pre = current\n",
    "    current = current.link\n",
    "    \n",
    "    if current.data == \"윤진\":   # 원하는 위치 찾으면\n",
    "        node = Node()           # 새 노드 생성\n",
    "        node.data = \"유리\"       # 새 노드에 데이터 입력\n",
    "        node.link = current\n",
    "        pre.link = node\n",
    "        \n",
    "        break\n",
    "        \n",
    "print(head.data, end = ' ')\n",
    "print(head.link.data, end = ' ')\n",
    "print(head.link.link.data, end = ' ')\n",
    "print(head.link.link.link.data, end = ' ')\n",
    "print(head.link.link.link.link.data, end = ' ')\n",
    "print(head.link.link.link.link.link.data, end = ' ')\n",
    "print(head.link.link.link.link.link.link.data, end = ' ')"
   ]
  },
  {
   "cell_type": "code",
   "execution_count": 24,
   "id": "d934ed3e",
   "metadata": {},
   "outputs": [],
   "source": [
    "# 원형 리스트 맨 앞 노드 삭제\n",
    "\n",
    "current = head                  # 맨 앞 노드를 current로 지정\n",
    "head = head.link                # head를 다음 위치 노드로 지정\n",
    "\n",
    "last = head                     # 마지막 위치를 head로 지정\n",
    "\n",
    "while last.link != current:     # 마지막 노드를 찾아서 한 노드씩 이동하며 검색\n",
    "    last = last.link\n",
    "    \n",
    "last.link = head                # 마지막 노드를 head에 걸기\n",
    "del current                     # current 삭제"
   ]
  },
  {
   "cell_type": "code",
   "execution_count": 25,
   "id": "1462a0f2",
   "metadata": {},
   "outputs": [
    {
     "name": "stdout",
     "output_type": "stream",
     "text": [
      "사쿠라 채원 유리 윤진 카즈하 은채 "
     ]
    }
   ],
   "source": [
    "print(head.data, end = ' ')\n",
    "print(head.link.data, end = ' ')\n",
    "print(head.link.link.data, end = ' ')\n",
    "print(head.link.link.link.data, end = ' ')\n",
    "print(head.link.link.link.link.data, end = ' ')\n",
    "print(head.link.link.link.link.link.data, end = ' ')"
   ]
  },
  {
   "cell_type": "code",
   "execution_count": 26,
   "id": "ed840411",
   "metadata": {},
   "outputs": [],
   "source": [
    "# 원형 리스트 중간 노드 삭제\n",
    "\n",
    "pre = head                        # pre, current 지정\n",
    "current = head\n",
    "\n",
    "while current.link != head:       # pre, current에 저장하면서 마지막 전까지 이동\n",
    "    pre = current\n",
    "    current = current.link\n",
    "    \n",
    "    if current.data == \"윤진\":     # 원하는 위치 찾으면\n",
    "        pre.link = current.link   # 위치 수정\n",
    "        \n",
    "del current                       # current 삭제"
   ]
  },
  {
   "cell_type": "code",
   "execution_count": 27,
   "id": "02eb881f",
   "metadata": {},
   "outputs": [
    {
     "name": "stdout",
     "output_type": "stream",
     "text": [
      "사쿠라 채원 유리 카즈하 은채 "
     ]
    }
   ],
   "source": [
    "print(head.data, end = ' ')\n",
    "print(head.link.data, end = ' ')\n",
    "print(head.link.link.data, end = ' ')\n",
    "print(head.link.link.link.data, end = ' ')\n",
    "print(head.link.link.link.link.data, end = ' ')"
   ]
  }
 ],
 "metadata": {
  "kernelspec": {
   "display_name": "Python 3 (ipykernel)",
   "language": "python",
   "name": "python3"
  },
  "language_info": {
   "codemirror_mode": {
    "name": "ipython",
    "version": 3
   },
   "file_extension": ".py",
   "mimetype": "text/x-python",
   "name": "python",
   "nbconvert_exporter": "python",
   "pygments_lexer": "ipython3",
   "version": "3.9.7"
  }
 },
 "nbformat": 4,
 "nbformat_minor": 5
}
