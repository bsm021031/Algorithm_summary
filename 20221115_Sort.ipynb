{
 "cells": [
  {
   "cell_type": "code",
   "execution_count": 11,
   "id": "366910d0",
   "metadata": {},
   "outputs": [
    {
     "name": "stdout",
     "output_type": "stream",
     "text": [
      "Min: 50\n"
     ]
    }
   ],
   "source": [
    "# 리스트 내 최소값 찾고 정렬하기\n",
    "\n",
    "def find_min(arr):\n",
    "    min_index = 0\n",
    "    \n",
    "    for i in range(1, len(arr)):\n",
    "        if arr[min_index] > arr[i]:\n",
    "            min_index = i\n",
    "            \n",
    "    return min_index\n",
    "\n",
    "\n",
    "arr = [188, 168, 162, 50, 170]\n",
    "index = find_min(arr)\n",
    "\n",
    "print('Min:', arr[index])"
   ]
  },
  {
   "cell_type": "code",
   "execution_count": 12,
   "id": "a4339175",
   "metadata": {},
   "outputs": [
    {
     "name": "stdout",
     "output_type": "stream",
     "text": [
      "Result: [50, 162, 168, 170, 188]\n"
     ]
    }
   ],
   "source": [
    "# 최소값 넣기 (오름차순 정렬)\n",
    "\n",
    "after_sort = []\n",
    "\n",
    "for _ in range(len(arr)):\n",
    "    min_index = find_min(arr)\n",
    "    after_sort.append(arr[min_index])\n",
    "    \n",
    "    del(arr[min_index])\n",
    "\n",
    "print('Result:', after_sort)"
   ]
  },
  {
   "cell_type": "code",
   "execution_count": 26,
   "id": "9def2a75",
   "metadata": {},
   "outputs": [
    {
     "name": "stdout",
     "output_type": "stream",
     "text": [
      "Before:  [87, 66, 45, 4, 23, 3, 67, 547, 99, 100, 766, 1]\n",
      "After:  [1, 3, 4, 23, 45, 66, 67, 87, 99, 100, 547, 766]\n"
     ]
    }
   ],
   "source": [
    "# 선택 정렬\n",
    "\n",
    "def selection_sort(arr):\n",
    "    for i in range(len(arr)):\n",
    "        min_index = i\n",
    "        for j in range(i + 1, len(arr)):\n",
    "            if arr[min_index] > arr[j]: min_index = j\n",
    "                \n",
    "        # tmp = arr[min_index]\n",
    "        # arr[min_index] = arr[i]\n",
    "        # arr[i] = tmp\n",
    "        \n",
    "        arr[min_index], arr[i] = arr[i], arr[min_index]\n",
    "\n",
    "\n",
    "arr = [87, 66, 45, 4, 23, 3, 67, 547, 99, 100, 766, 1]\n",
    "print('Before: ', arr)\n",
    "\n",
    "selection_sort(arr)\n",
    "print('After: ', arr)"
   ]
  },
  {
   "cell_type": "code",
   "execution_count": 44,
   "id": "d6e04726",
   "metadata": {},
   "outputs": [
    {
     "name": "stdout",
     "output_type": "stream",
     "text": [
      "765이 들어갈 위치: 12번째\n",
      "[1, 3, 4, 23, 45, 66, 67, 87, 99, 100, 547, 765, 766]\n"
     ]
    }
   ],
   "source": [
    "def find_index(arr, data):\n",
    "    find_index = -1\n",
    "    for i in range(len(arr)):\n",
    "        if arr[i] > data:\n",
    "            find_index = i\n",
    "            break\n",
    "        \n",
    "    if find_index == -1: return len(arr)\n",
    "    else: return find_index\n",
    "\n",
    "\n",
    "arr = [1, 3, 4, 23, 45, 66, 67, 87, 99, 100, 547, 766]\n",
    "data = 765\n",
    "result = find_index(arr, data)\n",
    "arr.insert(result, data)\n",
    "\n",
    "print(f'{data}이 들어갈 위치: {result + 1}번째')\n",
    "print(arr)"
   ]
  },
  {
   "cell_type": "code",
   "execution_count": null,
   "id": "84a08dae",
   "metadata": {},
   "outputs": [],
   "source": []
  }
 ],
 "metadata": {
  "kernelspec": {
   "display_name": "Python 3 (ipykernel)",
   "language": "python",
   "name": "python3"
  },
  "language_info": {
   "codemirror_mode": {
    "name": "ipython",
    "version": 3
   },
   "file_extension": ".py",
   "mimetype": "text/x-python",
   "name": "python",
   "nbconvert_exporter": "python",
   "pygments_lexer": "ipython3",
   "version": "3.9.7"
  }
 },
 "nbformat": 4,
 "nbformat_minor": 5
}
